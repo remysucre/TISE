{
 "cells": [
  {
   "cell_type": "code",
   "execution_count": 1,
   "metadata": {
    "collapsed": false
   },
   "outputs": [],
   "source": [
    "import numpy as np\n",
    "from scipy.integrate import odeint\n",
    "import scipy.optimize as opt\n",
    "import matplotlib.pyplot as plt"
   ]
  },
  {
   "cell_type": "code",
   "execution_count": 2,
   "metadata": {
    "collapsed": false
   },
   "outputs": [
    {
     "data": {
      "image/png": "[encoded data removed]",
      "text/plain": [
       "<matplotlib.figure.Figure at 0x7f2b401a1a90>"
      ]
     },
     "metadata": {},
     "output_type": "display_data"
    },
    {
     "data": {
      "image/png": "[encoded data removed]",
      "text/plain": [
       "<matplotlib.figure.Figure at 0x7f2b400eef60>"
      ]
     },
     "metadata": {},
     "output_type": "display_data"
    },
    {
     "name": "stdout",
     "output_type": "stream",
     "text": [
      "5.43260789271\n",
      "2.19876780269\n",
      "1.87977300409\n",
      "1.85641415802\n",
      "1.85576383754\n",
      "1.85575707164\n",
      "1.85575704058\n",
      "1.85575704051\n",
      "1.85575704051\n",
      "1.85575704051\n",
      "1.85575704051\n",
      "1.85575704051\n",
      "1.85575704051\n",
      "1.85575704052\n",
      "1.85575704051\n",
      "1.85575704051\n",
      "1.85575704051\n",
      "1.85575704051\n",
      "1.85575704051\n"
     ]
    },
    {
     "data": {
      "text/plain": [
       "'\\nnum_l = 1\\nroots = np.zeros(num_l)\\nfor i in range(num_l):\\n    roots[i] = bisect(getFcn(l*i/num_l), E0,E1)\\n    \\nplt.clf()\\nplt.plot(np.linspace(0,l,num_l), roots)\\nplt.show()\\n'"
      ]
     },
     "execution_count": 2,
     "metadata": {},
     "output_type": "execute_result"
    }
   ],
   "source": [
    "E0 = 1 # constant energy\n",
    "E1 = 10.5\n",
    "iterations = 20\n",
    "\n",
    "E = np.linspace(E0,E1,iterations)\n",
    "y0 = [0.0, 1.0] # inital psi and psi'\n",
    "l = 30\n",
    "x = np.linspace(0, l, 101) # position\n",
    "\n",
    "# time-independent schroedinger's equation with semi-infinite V\n",
    "def tise(y, x, E):\n",
    "    psi, u = y # u is d/dx*psi\n",
    "    dydx = [u, 2*(x*psi - E*psi)]\n",
    "    return dydx\n",
    "\n",
    "# numerical solution of TISE\n",
    "psi_l = np.zeros(iterations)\n",
    "for i in range(iterations):\n",
    "    sol = odeint(tise, y0, x, args=(E[i],))\n",
    "    # plot psi over psi'\n",
    "    plt.plot(x, sol[:, 0], 'b', label='$\\Psi$')\n",
    "    #plt.plot(x, sol[:, 1], 'g', label=\"$\\dot{\\Psi}$\")\n",
    "    psi_l[i] = sol[-1,0]\n",
    "\n",
    "\n",
    "#plt.legend(loc='best')\n",
    "plt.xlabel('x')\n",
    "plt.ylabel('psi(x)')\n",
    "\n",
    "plt.show()\n",
    "\n",
    "plt.clf()\n",
    "plt.plot(E,psi_l)\n",
    "plt.show()\n",
    "\n",
    "\n",
    "def getFcn(l):\n",
    "    def fcn(E):\n",
    "        x = np.linspace(0,l,101)\n",
    "        psi = odeint(tise, y0, x, args=(E,))\n",
    "        return psi[-1,0]\n",
    "    return fcn\n",
    "\n",
    "fcn = getFcn(10)\n",
    "\n",
    "for l in range(1, 20):\n",
    "    root = opt.newton(getFcn(l), E0)\n",
    "    print(root)\n",
    "\n",
    "range(5, 14)\n",
    "    \n",
    "\"\"\"\n",
    "num_l = 1\n",
    "roots = np.zeros(num_l)\n",
    "for i in range(num_l):\n",
    "    roots[i] = bisect(getFcn(l*i/num_l), E0,E1)\n",
    "    \n",
    "plt.clf()\n",
    "plt.plot(np.linspace(0,l,num_l), roots)\n",
    "plt.show()\n",
    "\"\"\""
   ]
  },
  {
   "cell_type": "code",
   "execution_count": null,
   "metadata": {
    "collapsed": true
   },
   "outputs": [],
   "source": []
  }
 ],
 "metadata": {
  "anaconda-cloud": {},
  "kernelspec": {
   "display_name": "Python 3",
   "language": "python",
   "name": "python3"
  },
  "language_info": {
   "codemirror_mode": {
    "name": "ipython",
    "version": 3
   },
   "file_extension": ".py",
   "mimetype": "text/x-python",
   "name": "python",
   "nbconvert_exporter": "python",
   "pygments_lexer": "ipython3",
   "version": "3.5.2"
  }
 },
 "nbformat": 4,
 "nbformat_minor": 2
}
